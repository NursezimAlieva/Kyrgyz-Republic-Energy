{
 "cells": [
  {
   "cell_type": "code",
   "execution_count": 59,
   "id": "initial_id",
   "metadata": {
    "collapsed": true,
    "ExecuteTime": {
     "end_time": "2025-05-14T09:04:39.665229700Z",
     "start_time": "2025-05-14T09:04:39.655534400Z"
    }
   },
   "outputs": [],
   "source": [
    "import pandas as pd\n",
    "import matplotlib.pyplot as plt"
   ]
  },
  {
   "cell_type": "markdown",
   "source": [
    "Datasets Overview"
   ],
   "metadata": {
    "collapsed": false
   },
   "id": "b9e65813b54252d1"
  },
  {
   "cell_type": "code",
   "outputs": [],
   "source": [
    "gas = pd.read_excel('Natural gas production volume (stat kg).xlsx')\n",
    "coal = pd.read_excel('Volume of coal and lignite production (stat kg).xlsx')\n",
    "oil = pd.read_excel('Volume of crude oil production (stat kg).xlsx')"
   ],
   "metadata": {
    "collapsed": false
   },
   "id": "6220ff3c099d29e4"
  },
  {
   "cell_type": "markdown",
   "source": [
    "Cleaning dataset \"Natural gas production\""
   ],
   "metadata": {
    "collapsed": false
   },
   "id": "1f4ad8f65bf8f763"
  },
  {
   "cell_type": "code",
   "outputs": [
    {
     "name": "stdout",
     "output_type": "stream",
     "text": [
      "               Items  2006  2007  2008  2009  2010  2011  2012  2013  2014  \\\n",
      "0    Kyrgyz Republic  19.4    15  17.4  15.4  22.8  26.6  28.5  32.5  32.5   \n",
      "1  Jalal-Abat oblast  19.4    15  17.4  15.4  22.8  26.6  28.5  32.5  32.5   \n",
      "\n",
      "   2015  2016  2017  2018  2019  2020  2021  2022  2023  2024 1  \n",
      "0  31.6  28.9    26  27.3  24.4  22.4  22.2  29.9  27.4    28.2  \n",
      "1  31.6  28.9    26  27.3  24.4  22.4  22.2  29.9  27.4    28.2  \n"
     ]
    }
   ],
   "source": [
    "gas = gas.dropna()\n",
    "\n",
    "#delete columns in russian and kyrgyz language\n",
    "gas = gas.drop(columns=['Көрсөткүчтөрдүн аталыштары', 'Наименование показателей'])\n",
    "\n",
    "print(gas.head())"
   ],
   "metadata": {
    "collapsed": false,
    "ExecuteTime": {
     "end_time": "2025-05-14T09:04:39.694839100Z",
     "start_time": "2025-05-14T09:04:39.670484100Z"
    }
   },
   "id": "e36010c4da7b12eb",
   "execution_count": 60
  }
 ],
 "metadata": {
  "kernelspec": {
   "display_name": "Python 3",
   "language": "python",
   "name": "python3"
  },
  "language_info": {
   "codemirror_mode": {
    "name": "ipython",
    "version": 2
   },
   "file_extension": ".py",
   "mimetype": "text/x-python",
   "name": "python",
   "nbconvert_exporter": "python",
   "pygments_lexer": "ipython2",
   "version": "2.7.6"
  }
 },
 "nbformat": 4,
 "nbformat_minor": 5
}
