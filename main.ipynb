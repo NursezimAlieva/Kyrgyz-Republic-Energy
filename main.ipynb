{
 "cells": [
  {
   "cell_type": "code",
   "execution_count": 37,
   "id": "initial_id",
   "metadata": {
    "collapsed": true,
    "ExecuteTime": {
     "end_time": "2025-05-23T08:41:13.535530800Z",
     "start_time": "2025-05-23T08:41:13.505342200Z"
    }
   },
   "outputs": [],
   "source": [
    "import pandas as pd\n",
    "import matplotlib.pyplot as plt"
   ]
  },
  {
   "cell_type": "markdown",
   "source": [
    "Datasets Overview"
   ],
   "metadata": {
    "collapsed": false
   },
   "id": "b9e65813b54252d1"
  },
  {
   "cell_type": "code",
   "outputs": [
    {
     "name": "stdout",
     "output_type": "stream",
     "text": [
      "    Көрсөткүчтөрдүн аталыштары    Наименование показателей  \\\n",
      "0    Өндүрүлгөн электроэнергия  Произведено электроэнергии   \n",
      "1      Гидро электростанциялар         Гидроэлектростанции   \n",
      "2  Жылуулук электростанциялар      Тепловые электростанции   \n",
      "\n",
      "                             Items   1992   1993   1994   1995   1996   1997  \\\n",
      "0  The electric power are produced  11980  11273  12932  12349  13758  12637   \n",
      "1     Hydroelectric power stations   9288   9085  11724  11118  12255  10934   \n",
      "2    Thermoelectric power stations   2692   2188   1208   1231   1503   1703   \n",
      "\n",
      "    1998  ...     2004     2005     2006     2007     2008     2009     2010  \\\n",
      "0  11618  ...  15141.0  14891.2  14523.2  14830.4  11789.1  11083.2  12062.7   \n",
      "1   9943  ...  14094.3  13980.4  13652.5  14004.1  10759.1  10098.0  11254.6   \n",
      "2   1675  ...   1046.7    910.8    870.7    826.3   1030.0    985.2    808.1   \n",
      "\n",
      "      2011     2012     2013  \n",
      "0  15158.0  15168.3  14011.4  \n",
      "1  14309.1  14179.0  13096.7  \n",
      "2    848.9    989.3    914.7  \n",
      "\n",
      "[3 rows x 25 columns]\n",
      "  Көрсөткүчтөрдүн аталыштары Наименование показателей              Items  \\\n",
      "0        Кыргыз Республикасы    Кыргызская Республика    Kyrgyz Republic   \n",
      "1          Жалал-Абад облусу  Джалал-Абадская область  Jalal-Abat oblast   \n",
      "\n",
      "   2006  2007  2008  2009  2010  2011  2012  ...  2015  2016  2017  2018  \\\n",
      "0  19.4    15  17.4  15.4  22.8  26.6  28.5  ...  31.6  28.9    26  27.3   \n",
      "1  19.4    15  17.4  15.4  22.8  26.6  28.5  ...  31.6  28.9    26  27.3   \n",
      "\n",
      "   2019  2020  2021  2022  2023  2024 1  \n",
      "0  24.4  22.4  22.2  29.9  27.4    28.2  \n",
      "1  24.4  22.4  22.2  29.9  27.4    28.2  \n",
      "\n",
      "[2 rows x 22 columns]\n",
      "  Көрсөткүчтөрдүн аталыштары Наименование показателей              Items  \\\n",
      "0        Кыргыз Республикасы    Кыргызская Республика    Kyrgyz Republic   \n",
      "1              Баткен облусу       Баткенская область      Batken oblast   \n",
      "2          Жалал-Абад облусу  Джалал-Абадская область  Jalal-Abat oblast   \n",
      "3            Ысык-Көл облусу   Иссык-Кульская область   Yssyk-Kul oblast   \n",
      "4               Нарын облусу        Нарынская область       Naryn oblast   \n",
      "\n",
      "    2006   2007   2008   2009   2010   2011    2012  ...    2015    2016  \\\n",
      "0  321.3  395.6  491.8  606.9    575  830.7  1163.9  ...  1928.7  1851.3   \n",
      "1  139.4  132.6  157.1  148.9  156.5    179   190.4  ...     249     294   \n",
      "2   23.3   26.5   46.5   51.1   49.5   53.4    88.5  ...   159.8   146.9   \n",
      "3   22.2   10.7    8.6    8.9    4.2    9.1    13.1  ...     3.4     3.8   \n",
      "4  105.1  135.9  144.6  212.6  183.4  335.6   379.8  ...   753.2   820.9   \n",
      "\n",
      "     2017    2018       2019    2020    2021    2022    2023  2024 1  \n",
      "0  1870.4  2395.2  2605.9942  2677.7  3062.5  3775.4  4177.4  4396.3  \n",
      "1   222.1   378.7   422.5538   475.6   654.9   774.9   954.4  1033.6  \n",
      "2   130.4   155.6   120.4374   300.9   264.5   191.7   404.8   315.1  \n",
      "3       -       -          -       -       -       -     9.3     5.3  \n",
      "4   867.6  1087.7  1252.1989    1366    1268  1831.8  1807.3  2252.9  \n",
      "\n",
      "[5 rows x 22 columns]\n",
      "                  Country Name Country Code  \\\n",
      "0                        Aruba          ABW   \n",
      "1  Africa Eastern and Southern          AFE   \n",
      "2                  Afghanistan          AFG   \n",
      "3   Africa Western and Central          AFW   \n",
      "4                       Angola          AGO   \n",
      "\n",
      "                                 Indicator Name     Indicator Code  \\\n",
      "0  Energy use (kg of oil equivalent per capita)  EG.USE.PCAP.KG.OE   \n",
      "1  Energy use (kg of oil equivalent per capita)  EG.USE.PCAP.KG.OE   \n",
      "2  Energy use (kg of oil equivalent per capita)  EG.USE.PCAP.KG.OE   \n",
      "3  Energy use (kg of oil equivalent per capita)  EG.USE.PCAP.KG.OE   \n",
      "4  Energy use (kg of oil equivalent per capita)  EG.USE.PCAP.KG.OE   \n",
      "\n",
      "         2006        2007        2008        2009        2010        2011  \\\n",
      "0         NaN         NaN         NaN         NaN         NaN         NaN   \n",
      "1  627.567678  637.375567  655.822832  657.083577  625.014805  632.967747   \n",
      "2         NaN         NaN         NaN         NaN         NaN         NaN   \n",
      "3  302.907262  300.302468  306.796574  295.423286  336.412979  359.064393   \n",
      "4  422.909459  446.790006  472.064397  504.924167  487.281074  486.235366   \n",
      "\n",
      "   ...        2015        2016        2017        2018        2019  \\\n",
      "0  ...         NaN         NaN         NaN         NaN         NaN   \n",
      "1  ...  607.144577  605.778276  596.300319  583.763039  586.441491   \n",
      "2  ...         NaN         NaN         NaN         NaN         NaN   \n",
      "3  ...  336.978668  343.896338  332.429748  325.467827  341.666133   \n",
      "4  ...  517.525209  462.934994  456.692217  405.179753  416.996507   \n",
      "\n",
      "         2020        2021        2022  2023  2024  \n",
      "0         NaN         NaN         NaN   NaN   NaN  \n",
      "1  563.976201  570.998888  565.488909   NaN   NaN  \n",
      "2         NaN         NaN         NaN   NaN   NaN  \n",
      "3  336.566407  350.102510  351.913062   NaN   NaN  \n",
      "4  397.633187  418.358996  423.122518   NaN   NaN  \n",
      "\n",
      "[5 rows x 23 columns]\n"
     ]
    }
   ],
   "source": [
    "allEnergy = pd.read_excel('Production of electricity.xlsx')\n",
    "gas = pd.read_excel('Natural gas production volume (stat kg).xlsx')\n",
    "coal = pd.read_excel('Volume of coal and lignite production (stat kg).xlsx')\n",
    "energyUse = pd.read_excel('Energy use in Kyrgyz Republic(WBOD).xlsx')\n",
    "\n",
    "print(allEnergy)\n",
    "print(gas.head())\n",
    "print(coal.head())\n",
    "print(energyUse.head())"
   ],
   "metadata": {
    "collapsed": false,
    "ExecuteTime": {
     "end_time": "2025-05-23T08:41:13.658815200Z",
     "start_time": "2025-05-23T08:41:13.539657300Z"
    }
   },
   "id": "6220ff3c099d29e4",
   "execution_count": 38
  },
  {
   "cell_type": "markdown",
   "source": [
    "Cleaning dataset 'Production of electricity' \n",
    "measures are in million kilowatt-hours"
   ],
   "metadata": {
    "collapsed": false
   },
   "id": "e9d5d7a19b22b029"
  },
  {
   "cell_type": "code",
   "outputs": [
    {
     "name": "stdout",
     "output_type": "stream",
     "text": [
      "                              Year   2000   2001   2002   2003     2004  \\\n",
      "0  The electric power are produced  14931  13667  11922  14021  15141.0   \n",
      "1     Hydroelectric power stations  13682  12430  10787  13004  14094.3   \n",
      "2    Thermoelectric power stations   1249   1237   1135   1017   1046.7   \n",
      "\n",
      "      2005     2006     2007     2008     2009     2010     2011     2012  \\\n",
      "0  14891.2  14523.2  14830.4  11789.1  11083.2  12062.7  15158.0  15168.3   \n",
      "1  13980.4  13652.5  14004.1  10759.1  10098.0  11254.6  14309.1  14179.0   \n",
      "2    910.8    870.7    826.3   1030.0    985.2    808.1    848.9    989.3   \n",
      "\n",
      "      2013  \n",
      "0  14011.4  \n",
      "1  13096.7  \n",
      "2    914.7  \n"
     ]
    }
   ],
   "source": [
    "allEnergy = allEnergy.drop(columns=['Көрсөткүчтөрдүн аталыштары', 'Наименование показателей', 1992, 1993, 1994, 1995, 1996, 1997, 1998, 1999])\n",
    "allEnergy = allEnergy.rename(columns={'Items': 'Year'})\n",
    "\n",
    "print(allEnergy.head())"
   ],
   "metadata": {
    "collapsed": false,
    "ExecuteTime": {
     "end_time": "2025-05-23T08:41:13.665388900Z",
     "start_time": "2025-05-23T08:41:13.655736600Z"
    }
   },
   "id": "8abd9eb60fa2ed",
   "execution_count": 39
  },
  {
   "cell_type": "markdown",
   "source": [
    "Cleaning dataset \"Natural gas production\"\n",
    "measures are in million m3"
   ],
   "metadata": {
    "collapsed": false
   },
   "id": "1f4ad8f65bf8f763"
  },
  {
   "cell_type": "code",
   "outputs": [
    {
     "name": "stdout",
     "output_type": "stream",
     "text": [
      "                Year  2011  2012  2013  2014  2015  2016  2017  2018  2019  \\\n",
      "0    Kyrgyz Republic  26.6  28.5  32.5  32.5  31.6  28.9    26  27.3  24.4   \n",
      "1  Jalal-Abat oblast  26.6  28.5  32.5  32.5  31.6  28.9    26  27.3  24.4   \n",
      "\n",
      "   2020  2021  2022  2023  2024 1  \n",
      "0  22.4  22.2  29.9  27.4    28.2  \n",
      "1  22.4  22.2  29.9  27.4    28.2  \n"
     ]
    }
   ],
   "source": [
    "gas = gas.dropna()\n",
    "\n",
    "#delete columns in russian and kyrgyz language\n",
    "gas = gas.drop(columns=['Көрсөткүчтөрдүн аталыштары', 'Наименование показателей', 2006, 2007, 2008, 2009, 2010])\n",
    "gas = gas.rename(columns={'Items': 'Year'})\n",
    "\n",
    "print(gas.head())"
   ],
   "metadata": {
    "collapsed": false,
    "ExecuteTime": {
     "end_time": "2025-05-23T08:41:13.681462Z",
     "start_time": "2025-05-23T08:41:13.663859800Z"
    }
   },
   "id": "e36010c4da7b12eb",
   "execution_count": 40
  },
  {
   "cell_type": "markdown",
   "source": [
    "Cleaning dataset 'Volume of coal and lignite production'\n",
    "measures are in thousand tons"
   ],
   "metadata": {
    "collapsed": false
   },
   "id": "8c2f615a5183b16f"
  },
  {
   "cell_type": "code",
   "outputs": [
    {
     "name": "stdout",
     "output_type": "stream",
     "text": [
      "                Year   2011    2012    2013    2014    2015    2016    2017  \\\n",
      "0    Kyrgyz Republic  830.7  1163.9  1406.8  1812.0  1928.7  1851.3  1870.4   \n",
      "1      Batken oblast  179.0   190.4   213.8   203.6   249.0   294.0   222.1   \n",
      "2  Jalal-Abat oblast   53.4    88.5   153.5   231.0   159.8   146.9   130.4   \n",
      "3   Yssyk-Kul oblast    9.1    13.1     0.9     1.0     3.4     3.8     0.0   \n",
      "4       Naryn oblast  335.6   379.8   413.1   678.3   753.2   820.9   867.6   \n",
      "\n",
      "     2018       2019    2020    2021    2022    2023  2024 1  \n",
      "0  2395.2  2605.9942  2677.7  3062.5  3775.4  4177.4  4396.3  \n",
      "1   378.7   422.5538   475.6   654.9   774.9   954.4  1033.6  \n",
      "2   155.6   120.4374   300.9   264.5   191.7   404.8   315.1  \n",
      "3     0.0     0.0000     0.0     0.0     0.0     9.3     5.3  \n",
      "4  1087.7  1252.1989  1366.0  1268.0  1831.8  1807.3  2252.9  \n"
     ]
    },
    {
     "name": "stderr",
     "output_type": "stream",
     "text": [
      "C:\\Users\\User\\AppData\\Local\\Temp\\ipykernel_13996\\175834320.py:6: FutureWarning: Downcasting behavior in `replace` is deprecated and will be removed in a future version. To retain the old behavior, explicitly call `result.infer_objects(copy=False)`. To opt-in to the future behavior, set `pd.set_option('future.no_silent_downcasting', True)`\n",
      "  coal = coal.replace('-', 0)\n"
     ]
    }
   ],
   "source": [
    "coal = coal.dropna()\n",
    "\n",
    "#delete columns in russian and kyrgyz language\n",
    "coal = coal.drop(columns=['Көрсөткүчтөрдүн аталыштары', 'Наименование показателей', 2006, 2007, 2008, 2009, 2010])\n",
    "coal = coal.rename(columns={'Items': 'Year'})\n",
    "coal = coal.replace('-', 0)\n",
    "\n",
    "print(coal.head())"
   ],
   "metadata": {
    "collapsed": false,
    "ExecuteTime": {
     "end_time": "2025-05-23T08:41:13.737041100Z",
     "start_time": "2025-05-23T08:41:13.676344200Z"
    }
   },
   "id": "6cf2b537c3589219",
   "execution_count": 41
  },
  {
   "cell_type": "markdown",
   "source": [
    "Cleaning dataset 'Energy use'"
   ],
   "metadata": {
    "collapsed": false
   },
   "id": "a264e577e12d2204"
  },
  {
   "cell_type": "code",
   "outputs": [
    {
     "name": "stdout",
     "output_type": "stream",
     "text": [
      "        Country Name                                Indicator Name   2011  \\\n",
      "122  Kyrgyz Republic  Energy use (kg of oil equivalent per capita)  596.8   \n",
      "\n",
      "      2012   2013   2014   2015   2016   2017   2018   2019   2020   2021  \\\n",
      "122  731.4  674.5  691.5  659.1  624.4  609.7  707.1  609.9  562.3  595.8   \n",
      "\n",
      "      2022  2023  2024  \n",
      "122  645.0   NaN   NaN  \n"
     ]
    }
   ],
   "source": [
    "energyUse = energyUse.drop(columns=['Indicator Code', 'Country Code', '2006', '2007', '2008', '2009', '2010'])\n",
    "energyUse = energyUse[energyUse['Country Name']=='Kyrgyz Republic']\n",
    "energyUse.fillna(energyUse.mean(numeric_only=True), inplace=True)\n",
    "energyUse = energyUse.round(1)\n",
    "\n",
    "print(energyUse.head())"
   ],
   "metadata": {
    "collapsed": false,
    "ExecuteTime": {
     "end_time": "2025-05-23T08:41:13.738051500Z",
     "start_time": "2025-05-23T08:41:13.689948400Z"
    }
   },
   "id": "6571fa5354e18a70",
   "execution_count": 42
  }
 ],
 "metadata": {
  "kernelspec": {
   "display_name": "Python 3",
   "language": "python",
   "name": "python3"
  },
  "language_info": {
   "codemirror_mode": {
    "name": "ipython",
    "version": 2
   },
   "file_extension": ".py",
   "mimetype": "text/x-python",
   "name": "python",
   "nbconvert_exporter": "python",
   "pygments_lexer": "ipython2",
   "version": "2.7.6"
  }
 },
 "nbformat": 4,
 "nbformat_minor": 5
}
