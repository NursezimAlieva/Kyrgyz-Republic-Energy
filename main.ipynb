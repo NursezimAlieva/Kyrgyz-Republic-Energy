{
 "cells": [
  {
   "cell_type": "code",
   "execution_count": 466,
   "id": "initial_id",
   "metadata": {
    "collapsed": true,
    "ExecuteTime": {
     "end_time": "2025-05-19T08:46:36.841592900Z",
     "start_time": "2025-05-19T08:46:36.817231900Z"
    }
   },
   "outputs": [],
   "source": [
    "import pandas as pd\n",
    "import matplotlib.pyplot as plt"
   ]
  },
  {
   "cell_type": "markdown",
   "source": [
    "Datasets Overview"
   ],
   "metadata": {
    "collapsed": false
   },
   "id": "b9e65813b54252d1"
  },
  {
   "cell_type": "code",
   "outputs": [
    {
     "name": "stdout",
     "output_type": "stream",
     "text": [
      "  Көрсөткүчтөрдүн аталыштары Наименование показателей              Items  \\\n",
      "0        Кыргыз Республикасы    Кыргызская Республика    Kyrgyz Republic   \n",
      "1          Жалал-Абад облусу  Джалал-Абадская область  Jalal-Abat oblast   \n",
      "\n",
      "   2006  2007  2008  2009  2010  2011  2012  ...  2015  2016  2017  2018  \\\n",
      "0  19.4    15  17.4  15.4  22.8  26.6  28.5  ...  31.6  28.9    26  27.3   \n",
      "1  19.4    15  17.4  15.4  22.8  26.6  28.5  ...  31.6  28.9    26  27.3   \n",
      "\n",
      "   2019  2020  2021  2022  2023  2024 1  \n",
      "0  24.4  22.4  22.2  29.9  27.4    28.2  \n",
      "1  24.4  22.4  22.2  29.9  27.4    28.2  \n",
      "\n",
      "[2 rows x 22 columns]\n",
      "  Көрсөткүчтөрдүн аталыштары Наименование показателей              Items  \\\n",
      "0        Кыргыз Республикасы    Кыргызская Республика    Kyrgyz Republic   \n",
      "1              Баткен облусу       Баткенская область      Batken oblast   \n",
      "2          Жалал-Абад облусу  Джалал-Абадская область  Jalal-Abat oblast   \n",
      "3            Ысык-Көл облусу   Иссык-Кульская область   Yssyk-Kul oblast   \n",
      "4               Нарын облусу        Нарынская область       Naryn oblast   \n",
      "\n",
      "    2006   2007   2008   2009   2010   2011    2012  ...    2015    2016  \\\n",
      "0  321.3  395.6  491.8  606.9    575  830.7  1163.9  ...  1928.7  1851.3   \n",
      "1  139.4  132.6  157.1  148.9  156.5    179   190.4  ...     249     294   \n",
      "2   23.3   26.5   46.5   51.1   49.5   53.4    88.5  ...   159.8   146.9   \n",
      "3   22.2   10.7    8.6    8.9    4.2    9.1    13.1  ...     3.4     3.8   \n",
      "4  105.1  135.9  144.6  212.6  183.4  335.6   379.8  ...   753.2   820.9   \n",
      "\n",
      "     2017    2018       2019    2020    2021    2022    2023  2024 1  \n",
      "0  1870.4  2395.2  2605.9942  2677.7  3062.5  3775.4  4177.4  4396.3  \n",
      "1   222.1   378.7   422.5538   475.6   654.9   774.9   954.4  1033.6  \n",
      "2   130.4   155.6   120.4374   300.9   264.5   191.7   404.8   315.1  \n",
      "3       -       -          -       -       -       -     9.3     5.3  \n",
      "4   867.6  1087.7  1252.1989    1366    1268  1831.8  1807.3  2252.9  \n",
      "\n",
      "[5 rows x 22 columns]\n",
      "  Көрсөткүчтөрдүн аталыштары Наименование показателей              Items  \\\n",
      "0        Кыргыз Республикасы    Кыргызская Республика    Kyrgyz Republic   \n",
      "1              Баткен облусу       Баткенская область      Batken oblast   \n",
      "2          Жалал-Абад облусу  Джалал-Абадская область  Jalal-Abad oblast   \n",
      "\n",
      "   2006  2007 2008  2009  2010  2011  2012  ...   2015   2016   2017   2018  \\\n",
      "0  70.9  68.5   71  77.3  82.8  89.9  78.9  ...  107.1  145.3  173.2  200.0   \n",
      "1     -     -    -     -     -     -  10.0  ...   12.2   12.1   10.1   11.6   \n",
      "2  70.9  68.5   71  77.3  82.8  89.9  68.9  ...   94.9  133.2  163.1  188.4   \n",
      "\n",
      "    2019   2020   2021   2022   2023  2024 1  \n",
      "0  233.1  239.2  275.7  295.1  303.1   299.0  \n",
      "1   12.6   12.0   12.1   11.8   11.6    10.3  \n",
      "2  220.5  227.2  263.6  283.3  291.5   288.7  \n",
      "\n",
      "[3 rows x 22 columns]\n",
      "  Country Name Country Code  \\\n",
      "0        Aruba          ABW   \n",
      "1        Aruba          ABW   \n",
      "2        Aruba          ABW   \n",
      "3        Aruba          ABW   \n",
      "4        Aruba          ABW   \n",
      "\n",
      "                                      Indicator Name     Indicator Code  \\\n",
      "0  Ores and metals exports (% of merchandise expo...  TX.VAL.MMTL.ZS.UN   \n",
      "1            Fuel exports (% of merchandise exports)  TX.VAL.FUEL.ZS.UN   \n",
      "2  Ores and metals imports (% of merchandise impo...  TM.VAL.MMTL.ZS.UN   \n",
      "3            Fuel imports (% of merchandise imports)  TM.VAL.FUEL.ZS.UN   \n",
      "4           Total natural resources rents (% of GDP)  NY.GDP.TOTL.RT.ZS   \n",
      "\n",
      "       2006      2007      2008      2009      2010      2011  ...      2015  \\\n",
      "0  0.349718  0.603313  1.700769  0.173127  0.203725  1.293258  ...  4.379361   \n",
      "1       NaN       NaN       NaN  0.009557  0.106446  0.010776  ...  0.197299   \n",
      "2  3.326961  3.051194  3.018264  0.970220  0.798838  1.140812  ...  1.221026   \n",
      "3       NaN       NaN       NaN  5.116160  6.538551  7.276812  ...  5.173460   \n",
      "4  0.002449  0.002437  0.002873  0.002041  0.003870  0.003810  ...  0.002388   \n",
      "\n",
      "        2016       2017      2018      2019      2020      2021      2022  \\\n",
      "0  12.820528  17.162131  6.461861  5.642713  4.163347  3.684676  6.718832   \n",
      "1   0.104982   0.115122  0.059671  0.010872  0.045362  0.028565  0.023182   \n",
      "2   2.117658   1.751345  0.917205  1.085379  1.043811  0.926863  0.905687   \n",
      "3   4.103526   5.448087  6.067872  4.776574  4.849332  5.178285  6.718923   \n",
      "4   0.003344   0.002827  0.001885  0.001680  0.003037  0.002066       NaN   \n",
      "\n",
      "       2023  2024  \n",
      "0  6.765718   NaN  \n",
      "1  0.060254   NaN  \n",
      "2  0.979966   NaN  \n",
      "3  5.914508   NaN  \n",
      "4       NaN   NaN  \n",
      "\n",
      "[5 rows x 23 columns]\n",
      "                  Country Name Country Code  \\\n",
      "0                        Aruba          ABW   \n",
      "1  Africa Eastern and Southern          AFE   \n",
      "2                  Afghanistan          AFG   \n",
      "3   Africa Western and Central          AFW   \n",
      "4                       Angola          AGO   \n",
      "\n",
      "                                 Indicator Name     Indicator Code  \\\n",
      "0  Energy use (kg of oil equivalent per capita)  EG.USE.PCAP.KG.OE   \n",
      "1  Energy use (kg of oil equivalent per capita)  EG.USE.PCAP.KG.OE   \n",
      "2  Energy use (kg of oil equivalent per capita)  EG.USE.PCAP.KG.OE   \n",
      "3  Energy use (kg of oil equivalent per capita)  EG.USE.PCAP.KG.OE   \n",
      "4  Energy use (kg of oil equivalent per capita)  EG.USE.PCAP.KG.OE   \n",
      "\n",
      "         2006        2007        2008        2009        2010        2011  \\\n",
      "0         NaN         NaN         NaN         NaN         NaN         NaN   \n",
      "1  627.567678  637.375567  655.822832  657.083577  625.014805  632.967747   \n",
      "2         NaN         NaN         NaN         NaN         NaN         NaN   \n",
      "3  302.907262  300.302468  306.796574  295.423286  336.412979  359.064393   \n",
      "4  422.909459  446.790006  472.064397  504.924167  487.281074  486.235366   \n",
      "\n",
      "   ...        2015        2016        2017        2018        2019  \\\n",
      "0  ...         NaN         NaN         NaN         NaN         NaN   \n",
      "1  ...  607.144577  605.778276  596.300319  583.763039  586.441491   \n",
      "2  ...         NaN         NaN         NaN         NaN         NaN   \n",
      "3  ...  336.978668  343.896338  332.429748  325.467827  341.666133   \n",
      "4  ...  517.525209  462.934994  456.692217  405.179753  416.996507   \n",
      "\n",
      "         2020        2021        2022  2023  2024  \n",
      "0         NaN         NaN         NaN   NaN   NaN  \n",
      "1  563.976201  570.998888  565.488909   NaN   NaN  \n",
      "2         NaN         NaN         NaN   NaN   NaN  \n",
      "3  336.566407  350.102510  351.913062   NaN   NaN  \n",
      "4  397.633187  418.358996  423.122518   NaN   NaN  \n",
      "\n",
      "[5 rows x 23 columns]\n",
      "  Көрсөткүчтөрдүн аталыштары  Наименование показателей                Items  \\\n",
      "0        Кыргыз Республикасы     Кыргызская Республика      Kyrgyz Republic   \n",
      "1                        NaN                       NaN                  NaN   \n",
      "2              Баткен облусу        Баткенская область        Batken oblast   \n",
      "3         Жалал-Абад  облусу  Джалал-Абадская  область   Djalal-Abad oblast   \n",
      "4           Ыссык-Көл облусу   Ыссык-Кульская  область     Issyk-Kul oblast   \n",
      "\n",
      "       2011      2012      2013      2014      2015         2016      2017  \\\n",
      "0  164361.1  137229.2  169829.4  171108.9  181026.7  209812.0000  237225.3   \n",
      "1       NaN       NaN       NaN       NaN       NaN          NaN       NaN   \n",
      "2    3536.7    4545.4    5929.7    5284.1    4821.6    4359.2825    4744.5   \n",
      "3   14325.3   15468.9   13033.2   13300.1   18115.1   20087.8535   25006.5   \n",
      "4   44257.9   27232.2   41723.6   40993.1   42198.1   51129.4198   52416.4   \n",
      "\n",
      "       2018         2019      2020      2021      2022      2023    2024 1  \n",
      "0  257348.5  283971.7079  325090.1  370533.8  435815.6  495344.0  585275.8  \n",
      "1       NaN          NaN       NaN       NaN       NaN       NaN       NaN  \n",
      "2    2810.9    2975.2513    3110.9    4349.4    4741.7    6428.9    8263.0  \n",
      "3   26808.0   28711.3886   28306.0   36609.2   45724.3   51861.7   56742.2  \n",
      "4   49965.4   62280.2412   78831.2   74737.6   87613.5   81350.6   96485.4  \n",
      "                       Көрсөткүчтөрдүн аталыштары  \\\n",
      "0                              Өнөр жай - бардыгы   \n",
      "1                                             NaN   \n",
      "2                         Пайдалуу кендерди казуу   \n",
      "3       Таш көмүр жана күрөң көмүр (лигнит) казуу   \n",
      "4  Чийки мунайзатты жана жаратылыш газын \\n казуу   \n",
      "\n",
      "                            Наименование показателей  \\\n",
      "0                             Промышленность - всего   \n",
      "1                                                NaN   \n",
      "2                         Добыча полезных ископаемых   \n",
      "3  Добыча каменного угля и бурого угля \\n  (лигнита)   \n",
      "4               Добыча сырой нефти и природного газа   \n",
      "\n",
      "                                               Items      2011      2012  \\\n",
      "0                                              Total  164361.1  137229.2   \n",
      "1                                                NaN       NaN       NaN   \n",
      "2                              Mining and quarrying     3682.3    6061.3   \n",
      "3  Mining of hard/anthracite coal and \\n brown co...     817.6    1412.7   \n",
      "4   Extraction of crude petroleum and \\n natural gas    1583.0    1618.7   \n",
      "\n",
      "       2013      2014      2015         2016      2017      2018         2019  \\\n",
      "0  169829.4  171108.9  181026.7  209811.9599  237225.3  257348.5  283971.7079   \n",
      "1       NaN       NaN       NaN          NaN       NaN       NaN          NaN   \n",
      "2    5064.9    5596.5    7913.8   12741.6888   17906.6   16046.9   19563.6730   \n",
      "3    1708.4    2147.1    2195.0    2093.8581    2268.7    3079.4    3440.1354   \n",
      "4    1951.4    2078.5    2335.7    2694.1854    3079.3    4097.9    4692.7251   \n",
      "\n",
      "       2020      2021      2022      2023    2024 1  \n",
      "0  325090.1  370533.8  435815.6  495344.0  585275.8  \n",
      "1       NaN       NaN       NaN       NaN       NaN  \n",
      "2   18008.0   42342.2   47101.8   56391.7   62662.2  \n",
      "3    3573.8    4388.1    5895.1    8075.3    9073.2  \n",
      "4    3788.1    7560.0   10619.2   10671.1   10332.7  \n",
      "  Көрсөткүчтөрдүн аталыштары Наименование показателей               Items  \\\n",
      "0        Кыргыз Республикасы    Кыргызская Республика     Kyrgyz Republic   \n",
      "1                        NaN                      NaN                 NaN   \n",
      "2              Баткен облусу       Баткенская область       Batken oblast   \n",
      "3          Жалал-Абад облусу  Джалал-Абадская область  Djalal-Abad oblast   \n",
      "4           Ыссык-Көл облусу   Иссык-Кульская область    Issyk-Kul oblast   \n",
      "\n",
      "    2011   2012   2013  2014   2015   2016   2017   2018   2019   2020   2021  \\\n",
      "0  111.9   84.1  128.6  98.4   95.6  104.9  111.5  105.4  106.9   93.4  109.0   \n",
      "1    NaN    NaN    NaN   NaN    NaN    NaN    NaN    NaN    NaN    NaN    NaN   \n",
      "2  102.6  114.5  134.6  88.4   83.5   93.6  115.4  129.8  111.3  125.3  103.2   \n",
      "3  122.1  103.9   96.5  98.4  115.4  102.0  144.1  106.1  106.5   92.5  106.2   \n",
      "4  103.3   55.8  183.5  94.6   92.0  106.1  102.3   95.5  111.9   93.1   86.3   \n",
      "\n",
      "    2022   2023  2024 1  \n",
      "0  111.4  102.7   105.5  \n",
      "1    NaN    NaN     NaN  \n",
      "2  110.3  120.8   117.9  \n",
      "3  111.5  108.8   112.4  \n",
      "4  118.5   79.6    96.6  \n",
      "                       Көрсөткүчтөрдүн аталыштары  \\\n",
      "0                              Өнөр жай - бардыгы   \n",
      "1                                             NaN   \n",
      "2                         Пайдалуу кендерди казуу   \n",
      "3       Таш көмүр жана күрөң көмүр (лигнит) казуу   \n",
      "4  Чийки мунайзатты жана жаратылыш газын \\n казуу   \n",
      "\n",
      "                            Наименование показателей  \\\n",
      "0                             Промышленность - всего   \n",
      "1                                                NaN   \n",
      "2                         Добыча полезных ископаемых   \n",
      "3  Добыча каменного угля и бурого угля \\n  (лигнита)   \n",
      "4               Добыча сырой нефти и природного газа   \n",
      "\n",
      "                                               Items   2011   2012   2013  \\\n",
      "0                                              Total  111.9   84.1  128.6   \n",
      "1                                                NaN    NaN    NaN    NaN   \n",
      "2                              Mining and quarrying   114.6  140.4   95.6   \n",
      "3  Mining of hard/anthracite coal and \\n brown co...  145.5  133.5  121.0   \n",
      "4   Extraction of crude petroleum and \\n natural gas  109.8   99.4  101.4   \n",
      "\n",
      "    2014   2015   2016   2017   2018   2019   2020   2021   2022   2023  \\\n",
      "0   98.4   95.6  104.9  111.5  105.4  106.9   93.4  109.0  111.4  102.7   \n",
      "1    NaN    NaN    NaN    NaN    NaN    NaN    NaN    NaN    NaN    NaN   \n",
      "2   99.5  163.8  120.1  178.4  108.1  118.4   77.6  121.2  108.2  103.1   \n",
      "3  124.8  101.3   93.4  100.5  122.0  106.9  101.4  117.7  116.8  113.2   \n",
      "4   98.8  128.8  128.8  120.1  117.5  117.0  101.1  114.8  107.9  102.5   \n",
      "\n",
      "   2024 1  \n",
      "0   105.5  \n",
      "1     NaN  \n",
      "2   104.0  \n",
      "3   103.6  \n",
      "4    98.8  \n"
     ]
    }
   ],
   "source": [
    "gas = pd.read_excel('Natural gas production volume (stat kg).xlsx')\n",
    "coal = pd.read_excel('Volume of coal and lignite production (stat kg).xlsx')\n",
    "oil = pd.read_excel('Volume of crude oil production (stat kg).xlsx')\n",
    "mining = pd.read_excel('Energy Mining(WBOD).xlsx')\n",
    "energyUse = pd.read_excel('Energy use in Kyrgyz Republic(WBOD).xlsx')\n",
    "industrialProductionTerritory =pd.read_excel('Volume of industrial production by territory(stat kg).xlsx')\n",
    "industrialProductionTypes = pd.read_excel('Volume of industrial production by type of economic activity(stat kg).xlsx')\n",
    "indexIndustrialProduction = pd.read_excel('Index of physical volume of industrial production(stat kg).xlsx')\n",
    "indexIndustrialProductionTypes = pd.read_excel('Index of physical volume of industrial production by types of economic activity(stat kg).xlsx')\n",
    "\n",
    "print(gas.head())\n",
    "print(coal.head())\n",
    "print(oil.head())\n",
    "print(mining.head())\n",
    "print(energyUse.head())\n",
    "print(industrialProductionTerritory.head())\n",
    "print(industrialProductionTypes.head())\n",
    "print(indexIndustrialProduction.head())\n",
    "print(indexIndustrialProductionTypes.head())"
   ],
   "metadata": {
    "collapsed": false,
    "ExecuteTime": {
     "end_time": "2025-05-19T08:46:37.888935700Z",
     "start_time": "2025-05-19T08:46:36.844626600Z"
    }
   },
   "id": "6220ff3c099d29e4",
   "execution_count": 467
  },
  {
   "cell_type": "markdown",
   "source": [
    "Cleaning dataset \"Natural gas production\""
   ],
   "metadata": {
    "collapsed": false
   },
   "id": "1f4ad8f65bf8f763"
  },
  {
   "cell_type": "code",
   "outputs": [
    {
     "name": "stdout",
     "output_type": "stream",
     "text": [
      "                Year  2011  2012  2013  2014  2015  2016  2017  2018  2019  \\\n",
      "0    Kyrgyz Republic  26.6  28.5  32.5  32.5  31.6  28.9    26  27.3  24.4   \n",
      "1  Jalal-Abat oblast  26.6  28.5  32.5  32.5  31.6  28.9    26  27.3  24.4   \n",
      "\n",
      "   2020  2021  2022  2023  2024 1  \n",
      "0  22.4  22.2  29.9  27.4    28.2  \n",
      "1  22.4  22.2  29.9  27.4    28.2  \n"
     ]
    }
   ],
   "source": [
    "gas = gas.dropna()\n",
    "\n",
    "#delete columns in russian and kyrgyz language\n",
    "gas = gas.drop(columns=['Көрсөткүчтөрдүн аталыштары', 'Наименование показателей', 2006, 2007, 2008, 2009, 2010])\n",
    "gas = gas.rename(columns={'Items': 'Year'})\n",
    "\n",
    "print(gas.head())"
   ],
   "metadata": {
    "collapsed": false,
    "ExecuteTime": {
     "end_time": "2025-05-19T08:46:37.899014800Z",
     "start_time": "2025-05-19T08:46:37.889944500Z"
    }
   },
   "id": "e36010c4da7b12eb",
   "execution_count": 468
  },
  {
   "cell_type": "markdown",
   "source": [
    "Cleaning dataset 'Volume of coal and lignite production'"
   ],
   "metadata": {
    "collapsed": false
   },
   "id": "8c2f615a5183b16f"
  },
  {
   "cell_type": "code",
   "outputs": [
    {
     "name": "stdout",
     "output_type": "stream",
     "text": [
      "                Year   2011    2012    2013    2014    2015    2016    2017  \\\n",
      "0    Kyrgyz Republic  830.7  1163.9  1406.8  1812.0  1928.7  1851.3  1870.4   \n",
      "1      Batken oblast  179.0   190.4   213.8   203.6   249.0   294.0   222.1   \n",
      "2  Jalal-Abat oblast   53.4    88.5   153.5   231.0   159.8   146.9   130.4   \n",
      "3   Yssyk-Kul oblast    9.1    13.1     0.9     1.0     3.4     3.8     0.0   \n",
      "4       Naryn oblast  335.6   379.8   413.1   678.3   753.2   820.9   867.6   \n",
      "\n",
      "     2018       2019    2020    2021    2022    2023  2024 1  \n",
      "0  2395.2  2605.9942  2677.7  3062.5  3775.4  4177.4  4396.3  \n",
      "1   378.7   422.5538   475.6   654.9   774.9   954.4  1033.6  \n",
      "2   155.6   120.4374   300.9   264.5   191.7   404.8   315.1  \n",
      "3     0.0     0.0000     0.0     0.0     0.0     9.3     5.3  \n",
      "4  1087.7  1252.1989  1366.0  1268.0  1831.8  1807.3  2252.9  \n"
     ]
    },
    {
     "name": "stderr",
     "output_type": "stream",
     "text": [
      "C:\\Users\\User\\AppData\\Local\\Temp\\ipykernel_12624\\175834320.py:6: FutureWarning: Downcasting behavior in `replace` is deprecated and will be removed in a future version. To retain the old behavior, explicitly call `result.infer_objects(copy=False)`. To opt-in to the future behavior, set `pd.set_option('future.no_silent_downcasting', True)`\n",
      "  coal = coal.replace('-', 0)\n"
     ]
    }
   ],
   "source": [
    "coal = coal.dropna()\n",
    "\n",
    "#delete columns in russian and kyrgyz language\n",
    "coal = coal.drop(columns=['Көрсөткүчтөрдүн аталыштары', 'Наименование показателей', 2006, 2007, 2008, 2009, 2010])\n",
    "coal = coal.rename(columns={'Items': 'Year'})\n",
    "coal = coal.replace('-', 0)\n",
    "\n",
    "print(coal.head())"
   ],
   "metadata": {
    "collapsed": false,
    "ExecuteTime": {
     "end_time": "2025-05-19T08:46:37.911977300Z",
     "start_time": "2025-05-19T08:46:37.895912200Z"
    }
   },
   "id": "6cf2b537c3589219",
   "execution_count": 469
  },
  {
   "cell_type": "markdown",
   "source": [
    "Cleaning dataset 'Volume of crude oil production'"
   ],
   "metadata": {
    "collapsed": false
   },
   "id": "5faf4f91865aefef"
  },
  {
   "cell_type": "code",
   "outputs": [
    {
     "name": "stdout",
     "output_type": "stream",
     "text": [
      "                Year  2011  2012  2013  2014   2015   2016   2017   2018  \\\n",
      "0    Kyrgyz Republic  89.9  78.9  83.5  82.0  107.1  145.3  173.2  200.0   \n",
      "1      Batken oblast   0.0  10.0  13.8  13.3   12.2   12.1   10.1   11.6   \n",
      "2  Jalal-Abad oblast  89.9  68.9  69.7  68.7   94.9  133.2  163.1  188.4   \n",
      "\n",
      "    2019   2020   2021   2022   2023  2024 1  \n",
      "0  233.1  239.2  275.7  295.1  303.1   299.0  \n",
      "1   12.6   12.0   12.1   11.8   11.6    10.3  \n",
      "2  220.5  227.2  263.6  283.3  291.5   288.7  \n"
     ]
    },
    {
     "name": "stderr",
     "output_type": "stream",
     "text": [
      "C:\\Users\\User\\AppData\\Local\\Temp\\ipykernel_12624\\2618798730.py:6: FutureWarning: Downcasting behavior in `replace` is deprecated and will be removed in a future version. To retain the old behavior, explicitly call `result.infer_objects(copy=False)`. To opt-in to the future behavior, set `pd.set_option('future.no_silent_downcasting', True)`\n",
      "  oil = oil.replace('-', 0)\n"
     ]
    }
   ],
   "source": [
    "oil = oil.dropna()\n",
    "\n",
    "#delete columns in russian and kyrgyz language\n",
    "oil = oil.drop(columns=['Көрсөткүчтөрдүн аталыштары', 'Наименование показателей', 2006, 2007, 2008, 2009, 2010])\n",
    "oil = oil.rename(columns={'Items': 'Year'})\n",
    "oil = oil.replace('-', 0)\n",
    "\n",
    "print(oil.head())"
   ],
   "metadata": {
    "collapsed": false,
    "ExecuteTime": {
     "end_time": "2025-05-19T08:46:37.954272600Z",
     "start_time": "2025-05-19T08:46:37.912976100Z"
    }
   },
   "id": "9807dd579629ff27",
   "execution_count": 470
  },
  {
   "cell_type": "markdown",
   "source": [
    "Cleaning dataset 'Energy Mining'"
   ],
   "metadata": {
    "collapsed": false
   },
   "id": "b24d798c91a2f939"
  },
  {
   "cell_type": "code",
   "outputs": [
    {
     "name": "stdout",
     "output_type": "stream",
     "text": [
      "         Country Name                                     Indicator Name  \\\n",
      "5002  Kyrgyz Republic  Ores and metals exports (% of merchandise expo...   \n",
      "5003  Kyrgyz Republic            Fuel exports (% of merchandise exports)   \n",
      "5004  Kyrgyz Republic  Ores and metals imports (% of merchandise impo...   \n",
      "5005  Kyrgyz Republic            Fuel imports (% of merchandise imports)   \n",
      "5006  Kyrgyz Republic           Total natural resources rents (% of GDP)   \n",
      "\n",
      "      2011  2012  2013  2014  2015  2016  2017  2018  2019  2020  2021   2022  \\\n",
      "5002   3.1   6.1   2.8   4.0   3.2   6.6  12.3  15.4  13.9  10.2  12.6   11.7   \n",
      "5003  10.0  12.2  10.8   7.6   5.2   3.4   5.0   7.6   6.0   4.4   3.6    8.8   \n",
      "5004   1.0   1.0   1.1   1.0   1.1   0.7   1.0   0.9   0.9   1.2   0.9    0.6   \n",
      "5005  22.8  21.7  21.4  20.5  19.1  10.4  14.2  17.0  14.0  14.3  16.1   11.0   \n",
      "5006  10.2   3.6   5.7   4.1   4.3   5.6   8.8   4.7   7.2   6.5  11.5  145.1   \n",
      "\n",
      "            2023  2024  \n",
      "5002        10.3   NaN  \n",
      "5003         6.0   NaN  \n",
      "5004         0.5   NaN  \n",
      "5005         7.2   NaN  \n",
      "5006  13110037.5   NaN  \n"
     ]
    }
   ],
   "source": [
    "mining = mining.drop(columns=['Indicator Code', 'Country Code', '2006', '2007', '2008', '2009', '2010'])\n",
    "mining = mining[mining['Country Name']=='Kyrgyz Republic']\n",
    "mining.fillna(mining.mean(numeric_only=True), inplace=True)\n",
    "mining = mining.round(1)\n",
    "\n",
    "print(mining.head())"
   ],
   "metadata": {
    "collapsed": false,
    "ExecuteTime": {
     "end_time": "2025-05-19T08:46:37.954272600Z",
     "start_time": "2025-05-19T08:46:37.925140800Z"
    }
   },
   "id": "e571ccbe5f4c4ba6",
   "execution_count": 471
  },
  {
   "cell_type": "markdown",
   "source": [
    "Cleaning dataset 'Energy use'"
   ],
   "metadata": {
    "collapsed": false
   },
   "id": "a264e577e12d2204"
  },
  {
   "cell_type": "code",
   "outputs": [
    {
     "name": "stdout",
     "output_type": "stream",
     "text": [
      "        Country Name                                Indicator Name   2011  \\\n",
      "122  Kyrgyz Republic  Energy use (kg of oil equivalent per capita)  596.8   \n",
      "\n",
      "      2012   2013   2014   2015   2016   2017   2018   2019   2020   2021  \\\n",
      "122  731.4  674.5  691.5  659.1  624.4  609.7  707.1  609.9  562.3  595.8   \n",
      "\n",
      "      2022  2023  2024  \n",
      "122  645.0   NaN   NaN  \n"
     ]
    }
   ],
   "source": [
    "energyUse = energyUse.drop(columns=['Indicator Code', 'Country Code', '2006', '2007', '2008', '2009', '2010'])\n",
    "energyUse = energyUse[energyUse['Country Name']=='Kyrgyz Republic']\n",
    "energyUse.fillna(energyUse.mean(numeric_only=True), inplace=True)\n",
    "energyUse = energyUse.round(1)\n",
    "\n",
    "print(energyUse.head())"
   ],
   "metadata": {
    "collapsed": false,
    "ExecuteTime": {
     "end_time": "2025-05-19T08:46:37.978998Z",
     "start_time": "2025-05-19T08:46:37.941147600Z"
    }
   },
   "id": "6571fa5354e18a70",
   "execution_count": 472
  },
  {
   "cell_type": "markdown",
   "source": [
    "Cleaning dataset 'Volume of industrial production by territory'"
   ],
   "metadata": {
    "collapsed": false
   },
   "id": "8a24641c1a1bad1a"
  },
  {
   "cell_type": "code",
   "outputs": [
    {
     "name": "stdout",
     "output_type": "stream",
     "text": [
      "                  Year      2011      2012      2013      2014      2015  \\\n",
      "0      Kyrgyz Republic  164361.1  137229.2  169829.4  171108.9  181026.7   \n",
      "2        Batken oblast    3536.7    4545.4    5929.7    5284.1    4821.6   \n",
      "3   Djalal-Abad oblast   14325.3   15468.9   13033.2   13300.1   18115.1   \n",
      "4     Issyk-Kul oblast   44257.9   27232.2   41723.6   40993.1   42198.1   \n",
      "5         Naryn oblast    1177.2    1245.2    1257.9    1590.7    1977.7   \n",
      "\n",
      "       2016      2017      2018      2019      2020      2021      2022  \\\n",
      "0  209812.0  237225.3  257348.5  283971.7  325090.1  370533.8  435815.6   \n",
      "2    4359.3    4744.5    2810.9    2975.3    3110.9    4349.4    4741.7   \n",
      "3   20087.9   25006.5   26808.0   28711.4   28306.0   36609.2   45724.3   \n",
      "4   51129.4   52416.4   49965.4   62280.2   78831.2   74737.6   87613.5   \n",
      "5    2332.4    2388.2    2622.8    2870.5    3206.6    3293.6    4322.8   \n",
      "\n",
      "       2023    2024 1  \n",
      "0  495344.0  585275.8  \n",
      "2    6428.9    8263.0  \n",
      "3   51861.7   56742.2  \n",
      "4   81350.6   96485.4  \n",
      "5    4965.0    6853.4  \n"
     ]
    }
   ],
   "source": [
    "industrialProductionTerritory = industrialProductionTerritory.dropna()\n",
    "\n",
    "#delete columns in russian and kyrgyz language\n",
    "industrialProductionTerritory = industrialProductionTerritory.drop(columns=['Көрсөткүчтөрдүн аталыштары', 'Наименование показателей'])\n",
    "industrialProductionTerritory = industrialProductionTerritory.rename(columns={'Items': 'Year'})\n",
    "industrialProductionTerritory = industrialProductionTerritory.round(1)\n",
    "\n",
    "print(industrialProductionTerritory.head())"
   ],
   "metadata": {
    "collapsed": false,
    "ExecuteTime": {
     "end_time": "2025-05-19T08:46:37.980054100Z",
     "start_time": "2025-05-19T08:46:37.953275700Z"
    }
   },
   "id": "22628b9263019f1d",
   "execution_count": 473
  },
  {
   "cell_type": "markdown",
   "source": [
    "Cleaning dataset 'Volume of industrial production by types of economic activity'"
   ],
   "metadata": {
    "collapsed": false
   },
   "id": "b163b8fcd0d91dea"
  },
  {
   "cell_type": "code",
   "outputs": [
    {
     "name": "stdout",
     "output_type": "stream",
     "text": [
      "                                                Year      2011      2012  \\\n",
      "0                                              Total  164361.1  137229.2   \n",
      "2                              Mining and quarrying     3682.3    6061.3   \n",
      "3  Mining of hard/anthracite coal and \\n brown co...     817.6    1412.7   \n",
      "4   Extraction of crude petroleum and \\n natural gas    1583.0    1618.7   \n",
      "5                           Extraction of metal ores     755.1    2646.1   \n",
      "\n",
      "       2013      2014      2015      2016      2017      2018      2019  \\\n",
      "0  169829.4  171108.9  181026.7  209812.0  237225.3  257348.5  283971.7   \n",
      "2    5064.9    5596.5    7913.8   12741.7   17906.6   16046.9   19563.7   \n",
      "3    1708.4    2147.1    2195.0    2093.9    2268.7    3079.4    3440.1   \n",
      "4    1951.4    2078.5    2335.7    2694.2    3079.3    4097.9    4692.7   \n",
      "5     793.6     831.7    2687.1    7328.9   11946.5    8193.9   10672.2   \n",
      "\n",
      "       2020      2021      2022      2023    2024 1  \n",
      "0  325090.1  370533.8  435815.6  495344.0  585275.8  \n",
      "2   18008.0   42342.2   47101.8   56391.7   62662.2  \n",
      "3    3573.8    4388.1    5895.1    8075.3    9073.2  \n",
      "4    3788.1    7560.0   10619.2   10671.1   10332.7  \n",
      "5   10025.6   29550.2   29583.8   35431.0   40967.2  \n"
     ]
    }
   ],
   "source": [
    "industrialProductionTypes = industrialProductionTypes.dropna()\n",
    "\n",
    "#delete columns in russian and kyrgyz language\n",
    "industrialProductionTypes = industrialProductionTypes.drop(columns=['Көрсөткүчтөрдүн аталыштары', 'Наименование показателей'])\n",
    "industrialProductionTypes = industrialProductionTypes.rename(columns={'Items': 'Year'})\n",
    "industrialProductionTypes = industrialProductionTypes.round(1)\n",
    "\n",
    "print(industrialProductionTypes.head())"
   ],
   "metadata": {
    "collapsed": false,
    "ExecuteTime": {
     "end_time": "2025-05-19T08:46:37.980054100Z",
     "start_time": "2025-05-19T08:46:37.965027500Z"
    }
   },
   "id": "2927da3fca26cf9",
   "execution_count": 474
  },
  {
   "cell_type": "markdown",
   "source": [
    "Cleaning dataset 'Index of physical volume of industrial production by territory'"
   ],
   "metadata": {
    "collapsed": false
   },
   "id": "4c81059a729ea92e"
  },
  {
   "cell_type": "code",
   "outputs": [
    {
     "name": "stdout",
     "output_type": "stream",
     "text": [
      "                 Year   2011   2012   2013   2014   2015   2016   2017   2018  \\\n",
      "0     Kyrgyz Republic  111.9   84.1  128.6   98.4   95.6  104.9  111.5  105.4   \n",
      "2       Batken oblast  102.6  114.5  134.6   88.4   83.5   93.6  115.4  129.8   \n",
      "3  Djalal-Abad oblast  122.1  103.9   96.5   98.4  115.4  102.0  144.1  106.1   \n",
      "4    Issyk-Kul oblast  103.3   55.8  183.5   94.6   92.0  106.1  102.3   95.5   \n",
      "5        Naryn oblast  114.2  101.5  100.2  106.4  100.8  113.2  102.6  102.3   \n",
      "\n",
      "    2019   2020   2021   2022   2023  2024 1  \n",
      "0  106.9   93.4  109.0  111.4  102.7   105.5  \n",
      "2  111.3  125.3  103.2  110.3  120.8   117.9  \n",
      "3  106.5   92.5  106.2  111.5  108.8   112.4  \n",
      "4  111.9   93.1   86.3  118.5   79.6    96.6  \n",
      "5  102.5   99.4  103.5  112.3  104.3   127.2  \n"
     ]
    }
   ],
   "source": [
    "indexIndustrialProduction = indexIndustrialProduction.dropna()\n",
    "\n",
    "#delete columns in russian and kyrgyz language\n",
    "indexIndustrialProduction = indexIndustrialProduction.drop(columns=['Көрсөткүчтөрдүн аталыштары', 'Наименование показателей'])\n",
    "indexIndustrialProduction = indexIndustrialProduction.rename(columns={'Items': 'Year'})\n",
    "\n",
    "print(indexIndustrialProduction.head())"
   ],
   "metadata": {
    "collapsed": false,
    "ExecuteTime": {
     "end_time": "2025-05-19T08:46:38.012872200Z",
     "start_time": "2025-05-19T08:46:37.975955500Z"
    }
   },
   "id": "aaa91af0d1d336bb",
   "execution_count": 475
  },
  {
   "cell_type": "markdown",
   "source": [
    "Cleaning dataset 'Index of physical volume of industrial production by types of economic activity'"
   ],
   "metadata": {
    "collapsed": false
   },
   "id": "c3b558347ce82efa"
  },
  {
   "cell_type": "code",
   "outputs": [
    {
     "name": "stdout",
     "output_type": "stream",
     "text": [
      "                                                Year   2011   2012   2013  \\\n",
      "0                                              Total  111.9   84.1  128.6   \n",
      "2                              Mining and quarrying   114.6  140.4   95.6   \n",
      "3  Mining of hard/anthracite coal and \\n brown co...  145.5  133.5  121.0   \n",
      "4   Extraction of crude petroleum and \\n natural gas  109.8   99.4  101.4   \n",
      "5                           Extraction of metal ores  586.4  256.1   67.4   \n",
      "\n",
      "    2014   2015   2016   2017   2018   2019   2020   2021   2022   2023  \\\n",
      "0   98.4   95.6  104.9  111.5  105.4  106.9   93.4  109.0  111.4  102.7   \n",
      "2   99.5  163.8  120.1  178.4  108.1  118.4   77.6  121.2  108.2  103.1   \n",
      "3  124.8  101.3   93.4  100.5  122.0  106.9  101.4  117.7  116.8  113.2   \n",
      "4   98.8  128.8  128.8  120.1  117.5  117.0  101.1  114.8  107.9  102.5   \n",
      "5   69.3  475.5  227.1  382.6   91.3  128.5   68.5  122.7  107.4  101.2   \n",
      "\n",
      "   2024 1  \n",
      "0   105.5  \n",
      "2   104.0  \n",
      "3   103.6  \n",
      "4    98.8  \n",
      "5   105.0  \n"
     ]
    }
   ],
   "source": [
    "indexIndustrialProductionTypes = indexIndustrialProductionTypes.dropna()\n",
    "\n",
    "#delete columns in russian and kyrgyz language\n",
    "indexIndustrialProductionTypes = indexIndustrialProductionTypes.drop(columns=['Көрсөткүчтөрдүн аталыштары', 'Наименование показателей'])\n",
    "indexIndustrialProductionTypes = indexIndustrialProductionTypes.rename(columns={'Items': 'Year'})\n",
    "\n",
    "print(indexIndustrialProductionTypes.head())"
   ],
   "metadata": {
    "collapsed": false,
    "ExecuteTime": {
     "end_time": "2025-05-19T08:46:38.012872200Z",
     "start_time": "2025-05-19T08:46:37.990229100Z"
    }
   },
   "id": "12a920b72ca4c893",
   "execution_count": 476
  }
 ],
 "metadata": {
  "kernelspec": {
   "display_name": "Python 3",
   "language": "python",
   "name": "python3"
  },
  "language_info": {
   "codemirror_mode": {
    "name": "ipython",
    "version": 2
   },
   "file_extension": ".py",
   "mimetype": "text/x-python",
   "name": "python",
   "nbconvert_exporter": "python",
   "pygments_lexer": "ipython2",
   "version": "2.7.6"
  }
 },
 "nbformat": 4,
 "nbformat_minor": 5
}
